{
 "cells": [
  {
   "cell_type": "markdown",
   "metadata": {},
   "source": [
    "# Step 2, alternative a: Generate UMAP representations from spectrograms  -  Basic pipeline"
   ]
  },
  {
   "cell_type": "markdown",
   "metadata": {},
   "source": [
    "## Introduction"
   ]
  },
  {
   "cell_type": "markdown",
   "metadata": {},
   "source": [
    "This script creates UMAP representations from spectrograms using the basic pipeline.\n",
    "The following minimal structure and files are required in the project directory:\n",
    "\n",
    "    ├── data\n",
    "    │   ├── df.pkl         <- pickled pandas dataframe with metadata and spectrograms (generated in\n",
    "    |                         01_generate_spectrograms.ipynb)\n",
    "    ├── spec_params.py     <- python file containing the spectrogram parameters used (generated in \n",
    "                              01_generate_spectrograms.ipynb)\n",
    "\n",
    "The following columns must exist (somewhere) in the pickled dataframe df.pkl:\n",
    "\n",
    "    | spectrograms    |    ....\n",
    "    ------------------------------------------\n",
    "    |  2D np.array    |    ....\n",
    "    |  ...            |    ....\n",
    "    |  ...            |    .... "
   ]
  },
  {
   "cell_type": "markdown",
   "metadata": {},
   "source": [
    "## Import statements, constants and functions"
   ]
  },
  {
   "cell_type": "code",
   "execution_count": 1,
   "metadata": {},
   "outputs": [],
   "source": [
    "import pandas as pd\n",
    "import numpy as np\n",
    "import pickle\n",
    "import os\n",
    "from pathlib import Path\n",
    "import umap\n",
    "\n",
    "from preprocessing_functions import calc_zscore, pad_spectro\n",
    "from custom_dist_functions_umap import unpack_specs"
   ]
  },
  {
   "cell_type": "code",
   "execution_count": 2,
   "metadata": {},
   "outputs": [],
   "source": [
    "P_DIR = os.getcwd() # --> project directory default: your current working directory\n",
    "DATA = os.path.join(os.path.sep, P_DIR, 'data') "
   ]
  },
  {
   "cell_type": "markdown",
   "metadata": {},
   "source": [
    "Specify UMAP parameters. If desired, other inputs can be used for UMAP, such as denoised spectrograms, bandpass filtered spectrograms or other (MFCC, specs on frequency scale...) by changining the INPUT_COL parameter."
   ]
  },
  {
   "cell_type": "code",
   "execution_count": 3,
   "metadata": {},
   "outputs": [],
   "source": [
    "INPUT_COL = 'spectrograms'  # column that is used for UMAP\n",
    "                            #  could also choose 'denoised_spectrograms' or 'stretched_spectrograms' etc etc...\n",
    "    \n",
    "METRIC_TYPE = 'euclidean'     # distance metric used in UMAP. Check UMAP documentation for other options\n",
    "                              # e.g. 'euclidean', correlation', 'cosine','manhattan' ...\n",
    "    \n",
    "N_COMP = 3                    # number of dimensions desired in latent space  "
   ]
  },
  {
   "cell_type": "markdown",
   "metadata": {},
   "source": [
    "# Load data"
   ]
  },
  {
   "cell_type": "code",
   "execution_count": 4,
   "metadata": {},
   "outputs": [],
   "source": [
    "df = pd.read_pickle(os.path.join(os.path.sep, DATA, 'df.pkl'))"
   ]
  },
  {
   "cell_type": "markdown",
   "metadata": {},
   "source": [
    "## UMAP"
   ]
  },
  {
   "cell_type": "markdown",
   "metadata": {},
   "source": [
    "In this step, the spectrograms are z-transformed, zero-padded and concatenated to obtain numeric vectors."
   ]
  },
  {
   "cell_type": "code",
   "execution_count": 5,
   "metadata": {},
   "outputs": [],
   "source": [
    "# Basic pipeline\n",
    "# No time-shift allowed, spectrograms should be aligned at the start. All spectrograms are zero-padded \n",
    "# to equal length\n",
    "    \n",
    "specs = df[INPUT_COL] # choose spectrogram column\n",
    "specs = [calc_zscore(s) for s in specs] # z-transform each spectrogram\n",
    "\n",
    "maxlen= np.max([spec.shape[1] for spec in specs]) # find maximal length in dataset\n",
    "flattened_specs = [pad_spectro(spec, maxlen).flatten() for spec in specs] # pad all specs to maxlen, then row-wise concatenate (flatten)\n",
    "data = np.asarray(flattened_specs) # data is the final input data for UMAP\n",
    "    \n",
    "reducer = umap.UMAP(n_components=N_COMP, metric = METRIC_TYPE,  # specify parameters of UMAP reducer\n",
    "                    min_dist = 0, random_state=2204) "
   ]
  },
  {
   "cell_type": "markdown",
   "metadata": {},
   "source": [
    "## Fit UMAP"
   ]
  },
  {
   "cell_type": "code",
   "execution_count": 6,
   "metadata": {},
   "outputs": [],
   "source": [
    "embedding = reducer.fit_transform(data)  # embedding contains the new coordinates of datapoints in 3D space"
   ]
  },
  {
   "cell_type": "code",
   "execution_count": 7,
   "metadata": {},
   "outputs": [],
   "source": [
    "# Add UMAP coordinates to dataframe\n",
    "\n",
    "for i in range(N_COMP):\n",
    "    df['UMAP'+str(i+1)] = embedding[:,i]"
   ]
  },
  {
   "cell_type": "markdown",
   "metadata": {},
   "source": [
    "## Save dataframe"
   ]
  },
  {
   "cell_type": "code",
   "execution_count": 8,
   "metadata": {},
   "outputs": [],
   "source": [
    "df.to_pickle(os.path.join(os.path.sep, DATA, 'df_umap.pkl'))"
   ]
  }
 ],
 "metadata": {
  "kernelspec": {
   "display_name": "Python 3",
   "language": "python",
   "name": "python3"
  },
  "language_info": {
   "codemirror_mode": {
    "name": "ipython",
    "version": 3
   },
   "file_extension": ".py",
   "mimetype": "text/x-python",
   "name": "python",
   "nbconvert_exporter": "python",
   "pygments_lexer": "ipython3",
   "version": "3.7.10"
  }
 },
 "nbformat": 4,
 "nbformat_minor": 4
}
