{
 "cells": [
  {
   "cell_type": "markdown",
   "metadata": {},
   "source": [
    "# Step 2, alternative b: Generate UMAP representations from spectrograms -  custom distance (time-shift)"
   ]
  },
  {
   "cell_type": "markdown",
   "metadata": {},
   "source": [
    "## Introduction"
   ]
  },
  {
   "cell_type": "markdown",
   "metadata": {},
   "source": [
    "This script creates UMAP representations from spectrograms, while allowing for some time-shift of spectrograms. This increases computation time, but is well suited for calls that are not well aligned at the start.\n",
    "\n",
    "#### The following minimal structure and files are required in the project directory:\n",
    "\n",
    "    ├── data\n",
    "    │   ├── df.pkl         <- pickled pandas dataframe with metadata and spectrograms (generated in\n",
    "                              01_generate_spectrograms.ipynb)\n",
    "\n",
    "#### The following columns must exist (somewhere) in the pickled dataframe df.pkl:\n",
    "\n",
    "    | spectrograms    |    ....\n",
    "    ------------------------------------------\n",
    "    |  2D np.array    |    ....\n",
    "    |  ...            |    ....\n",
    "    |  ...            |    .... \n",
    "    \n",
    "#### The following files are generated in this script:\n",
    "\n",
    "    ├── data\n",
    "    │   ├── df_umap.pkl         <- pickled pandas dataframe with metadata, spectrograms AND UMAP coordinates"
   ]
  },
  {
   "cell_type": "markdown",
   "metadata": {},
   "source": [
    "## Import statements, constants and functions"
   ]
  },
  {
   "cell_type": "code",
   "execution_count": 1,
   "metadata": {},
   "outputs": [],
   "source": [
    "import pandas as pd\n",
    "import numpy as np\n",
    "import pickle\n",
    "import os\n",
    "from pathlib import Path\n",
    "import umap\n",
    "import sys \n",
    "sys.path.insert(0, '..')\n",
    "\n",
    "from functions.preprocessing_functions import calc_zscore, pad_spectro\n",
    "from functions.custom_dist_functions_umap import unpack_specs"
   ]
  },
  {
   "cell_type": "code",
   "execution_count": 2,
   "metadata": {},
   "outputs": [],
   "source": [
    "P_DIR = str(Path(os.getcwd()).parents[0])            # project directory\n",
    "DATA = os.path.join(os.path.sep, P_DIR, 'data') "
   ]
  },
  {
   "cell_type": "markdown",
   "metadata": {},
   "source": [
    "Specify UMAP parameters. If desired, other inputs can be used for UMAP, such as denoised spectrograms, bandpass filtered spectrograms or other (MFCC, specs on frequency scale...) by changining the INPUT_COL parameter."
   ]
  },
  {
   "cell_type": "code",
   "execution_count": 7,
   "metadata": {},
   "outputs": [],
   "source": [
    "INPUT_COL = 'spectrograms'  # column that is used for UMAP\n",
    "                            #  could also choose 'denoised_spectrograms' or 'stretched_spectrograms' etc etc...\n",
    "\n",
    "MIN_OVERLAP = 0.9        # time shift constraint\n",
    "                         # MIN_OVERLAP*100 % of the shorter spectrogram must overlap with the longer spectrogram\n",
    "                         # when finding the position with the least error during the time-shifting\n",
    "\n",
    "METRIC_TYPE = 'euclidean'     # distance metric used in UMAP.\n",
    "                              # If performing time-shift, only 'euclidean', correlation', 'cosine' and 'manhattan' \n",
    "                              # are available\n",
    "    \n",
    "N_COMP = 3                    # number of dimensions desired in latent space  "
   ]
  },
  {
   "cell_type": "markdown",
   "metadata": {},
   "source": [
    "## 1. Load data"
   ]
  },
  {
   "cell_type": "code",
   "execution_count": 4,
   "metadata": {},
   "outputs": [],
   "source": [
    "df = pd.read_pickle(os.path.join(os.path.sep, DATA, 'df.pkl'))"
   ]
  },
  {
   "cell_type": "markdown",
   "metadata": {},
   "source": [
    "## 2. UMAP"
   ]
  },
  {
   "cell_type": "markdown",
   "metadata": {},
   "source": [
    "In this step, the spectrograms are z-transformed, zero-padded and concatenated to obtain numeric vectors."
   ]
  },
  {
   "cell_type": "markdown",
   "metadata": {},
   "source": [
    "### 2.1. Load custom distance function with time-shift"
   ]
  },
  {
   "cell_type": "code",
   "execution_count": null,
   "metadata": {},
   "outputs": [],
   "source": [
    "# Pipeline with allowing for time-shift of spectrograms. When assessing distance between spectrograms,\n",
    "# the shorter spectrogram is shifted along the longer one to find the position of minimum-error overlap.\n",
    "# The shorter is then zero-padded to the length of the longer one and distance is calculated using the \n",
    "# chosen METRIC_TYPE distance (euclidean, manhatten, cosine, correlation)\n",
    "# This also means that the dimensionality of the spectrogram vectors can be different for each pairwise \n",
    "# comparison. Hence, we need some sort of normalization to the dimensionality, otherwise metrics like \n",
    "# euclidean or manhattan will automatically be larger for high-dimensional spectrogram vectors (i.e. calls\n",
    "# with long duration). Therefore, euclidean and manhattan are normalized to the size of the spectrogram.\n",
    "    \n",
    "from preprocessing_functions import pad_transform_spectro\n",
    "import numba\n",
    "\n",
    "if METRIC_TYPE=='euclidean':\n",
    "    @numba.njit()\n",
    "    def spec_dist(a,b,size):\n",
    "        dist = np.sqrt((np.sum(np.subtract(a,b)*np.subtract(a,b)))) / np.sqrt(size)\n",
    "        return dist\n",
    "elif METRIC_TYPE=='manhattan':\n",
    "    @numba.njit()\n",
    "    def spec_dist(a,b,size):\n",
    "        dist = (np.sum(np.abs(np.subtract(a,b)))) / size\n",
    "        return dist\n",
    "elif METRIC_TYPE=='cosine':\n",
    "    @numba.njit()\n",
    "    def spec_dist(a,b,size):\n",
    "        # turn into unit vectors by dividing each vector field by magnitude of vector\n",
    "        dot_product = np.sum(a*b)\n",
    "        a_magnitude = np.sqrt(np.sum(a*a))\n",
    "        b_magnitude = np.sqrt(np.sum(b*b))\n",
    "        dist = 1 - dot_product/(a_magnitude*b_magnitude)\n",
    "        return dist\n",
    "\n",
    "elif METRIC_TYPE=='correlation':\n",
    "    @numba.njit()\n",
    "    def spec_dist(a,b,size):\n",
    "        a_meandiff = a - np.mean(a)\n",
    "        b_meandiff = b - np.mean(b)\n",
    "        dot_product =  np.sum(a_meandiff*b_meandiff)\n",
    "        a_meandiff_magnitude = np.sqrt(np.sum(a_meandiff*a_meandiff))\n",
    "        b_meandiff_magnitude = np.sqrt(np.sum(b_meandiff*b_meandiff))\n",
    "        dist = 1 - dot_product/(a_meandiff_magnitude * b_meandiff_magnitude)\n",
    "        return dist\n",
    "else:\n",
    "    print('Metric type ', METRIC_TYPE, ' not compatible with option TIME_SHIFT = True')\n",
    "    raise\n",
    "        \n",
    "@numba.njit()\n",
    "def calc_timeshift_pad(a,b):\n",
    "    spec_s, spec_l = unpack_specs(a,b)\n",
    "\n",
    "    len_s = spec_s.shape[1]\n",
    "    len_l = spec_l.shape[1]\n",
    "\n",
    "    nfreq = spec_s.shape[0] \n",
    "\n",
    "    # define start position\n",
    "    min_overlap_frames = int(MIN_OVERLAP * len_s)\n",
    "    start_timeline = min_overlap_frames-len_s\n",
    "    max_timeline = len_l - min_overlap_frames\n",
    "    n_of_calculations = int((((max_timeline+1-start_timeline)+(max_timeline+1-start_timeline))/2) +1)\n",
    "    distances = np.full((n_of_calculations),999.)\n",
    "    count=0\n",
    "        \n",
    "    for timeline_p in range(start_timeline, max_timeline+1,2):\n",
    "        # mismatch on left side\n",
    "        if timeline_p < 0:\n",
    "            len_overlap = len_s - abs(timeline_p)\n",
    "            pad_s = np.full((nfreq, (len_l-len_overlap)),0.)\n",
    "            pad_l = np.full((nfreq, (len_s-len_overlap)),0.)\n",
    "            s_config = np.append(spec_s, pad_s, axis=1).astype(np.float64)\n",
    "            l_config = np.append(pad_l, spec_l, axis=1).astype(np.float64)\n",
    "            \n",
    "        # mismatch on right side\n",
    "        elif timeline_p > (len_l-len_s):\n",
    "            len_overlap = len_l - timeline_p\n",
    "            pad_s = np.full((nfreq, (len_l-len_overlap)),0.)\n",
    "            pad_l = np.full((nfreq, (len_s-len_overlap)),0.)\n",
    "            s_config = np.append(pad_s, spec_s, axis=1).astype(np.float64)\n",
    "            l_config = np.append(spec_l, pad_l, axis=1).astype(np.float64)\n",
    "                \n",
    "        else:\n",
    "            len_overlap = len_s\n",
    "            start_col_l = timeline_p\n",
    "            end_col_l = start_col_l + len_overlap\n",
    "            pad_s_left = np.full((nfreq, start_col_l),0.)\n",
    "            pad_s_right = np.full((nfreq, (len_l - end_col_l)),0.)\n",
    "            l_config = spec_l.astype(np.float64)\n",
    "            s_config = np.append(pad_s_left, spec_s, axis=1).astype(np.float64)\n",
    "            s_config = np.append(s_config, pad_s_right, axis=1).astype(np.float64)\n",
    "                \n",
    "        size = s_config.shape[0]*s_config.shape[1]\n",
    "        distances[count] = spec_dist(s_config, l_config, size)\n",
    "        count = count + 1\n",
    "        \n",
    "    min_dist = np.min(distances)\n",
    "    return min_dist"
   ]
  },
  {
   "cell_type": "markdown",
   "metadata": {},
   "source": [
    "### 2.1. Prepare UMAP input"
   ]
  },
  {
   "cell_type": "code",
   "execution_count": null,
   "metadata": {},
   "outputs": [],
   "source": [
    "specs = df[INPUT_COL]\n",
    "specs = [calc_zscore(s) for s in specs] # z-transform\n",
    "    \n",
    "n_bins = specs[0].shape[0]\n",
    "maxlen = np.max([spec.shape[1] for spec in specs]) * n_bins + 2\n",
    "trans_specs = [pad_transform_spectro(spec, maxlen) for spec in specs]\n",
    "data = np.asarray(trans_specs)"
   ]
  },
  {
   "cell_type": "markdown",
   "metadata": {},
   "source": [
    "### 2.2. Specify UMAP parameters"
   ]
  },
  {
   "cell_type": "code",
   "execution_count": null,
   "metadata": {},
   "outputs": [],
   "source": [
    "reducer = umap.UMAP(n_components=N_COMP, metric = calc_timeshift_pad, min_dist = 0, random_state=2204) "
   ]
  },
  {
   "cell_type": "markdown",
   "metadata": {},
   "source": [
    "### 2.3. Fit UMAP"
   ]
  },
  {
   "cell_type": "code",
   "execution_count": 23,
   "metadata": {},
   "outputs": [
    {
     "name": "stderr",
     "output_type": "stream",
     "text": [
      "/home/mthomas/anaconda3/envs/umap_tut_env/lib/python3.7/site-packages/umap/umap_.py:1728: UserWarning: custom distance metric does not return gradient; inverse_transform will be unavailable. To enable using inverse_transform method method, define a distance function that returns a tuple of (distance [float], gradient [np.array])\n",
      "  \"custom distance metric does not return gradient; inverse_transform will be unavailable. \"\n"
     ]
    }
   ],
   "source": [
    "embedding = reducer.fit_transform(data)  # embedding contains the new coordinates of datapoints in 3D space"
   ]
  },
  {
   "cell_type": "markdown",
   "metadata": {},
   "source": [
    "## 3. Save dataframe"
   ]
  },
  {
   "cell_type": "code",
   "execution_count": 25,
   "metadata": {},
   "outputs": [],
   "source": [
    "# Add UMAP coordinates to dataframe\n",
    "for i in range(N_COMP):\n",
    "    df['UMAP'+str(i+1)] = embedding[:,i]\n",
    "\n",
    "# Save dataframe\n",
    "df.to_pickle(os.path.join(os.path.sep, DATA, 'df_umap.pkl'))"
   ]
  }
 ],
 "metadata": {
  "kernelspec": {
   "display_name": "Python 3",
   "language": "python",
   "name": "python3"
  },
  "language_info": {
   "codemirror_mode": {
    "name": "ipython",
    "version": 3
   },
   "file_extension": ".py",
   "mimetype": "text/x-python",
   "name": "python",
   "nbconvert_exporter": "python",
   "pygments_lexer": "ipython3",
   "version": "3.7.10"
  }
 },
 "nbformat": 4,
 "nbformat_minor": 4
}
