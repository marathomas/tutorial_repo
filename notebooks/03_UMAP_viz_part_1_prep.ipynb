{
 "cells": [
  {
   "cell_type": "markdown",
   "metadata": {},
   "source": [
    "# Interactive visualization of UMAP representations: Part 1 (Prep)"
   ]
  },
  {
   "cell_type": "markdown",
   "metadata": {},
   "source": [
    "This script creates a spectrogram image for each call and saves all images in a pickled dictionary in the data subfolder (image_data.pkl). These images will be displayed later in the interactive visualization tool; generating them beforehand makes the tool faster, as images don't need to be created on-the-fly, but can be accessed through the dictionary. \n",
    "\n",
    "The default dictionary key is the filename without datatype specifier (e.g. without .wav), but if the dataframe contains a column 'callID', this is used as keys.\n",
    "\n",
    "#### The following minimal structure and files are required in the project directory:\n",
    "\n",
    "    ├── data\n",
    "    │   ├── df_umap.pkl   <- pickled pandas dataframe with metadata, raw_audio, spectrograms and UMAP coordinates\n",
    "    |                        (generated in 02a_generate_UMAP_basic.ipynb or 02b_generate_UMAP_timeshift.ipynb)\n",
    "    ├── parameters \n",
    "    │   ├── spec_params.py  <- python file containing the spectrogram parameters used (generated in \n",
    "                               01_generate_spectrograms.ipynb)\n",
    "  \n",
    "\n",
    "#### The following columns must exist (somewhere) in the pickled dataframe df.pkl:\n",
    "(callID is optional)\n",
    "\n",
    "    | filename   | spectrograms    |  samplerate_hz |    [optional: callID]\n",
    "    --------------------------------------------------------------------\n",
    "    | call_1.wav |  2D np.array    |      8000      |    [call_1]\n",
    "    | call_2.wav |  ...            |      48000     |    [call_2] \n",
    "    | ...        |  ...            |      ....      |    ....  \n",
    "\n",
    "#### The following files are generated in this script:\n",
    "\n",
    "    ├── data\n",
    "    │   ├── df_umap.pkl <- is overwritten with updated version of df_umap.pkl (with ID column)                       \n",
    "    │   ├── image_data.pkl <- pickled dictionary with spectrogram images as values, ID column as keys"
   ]
  },
  {
   "cell_type": "markdown",
   "metadata": {},
   "source": [
    "## Import statements, constants and functions"
   ]
  },
  {
   "cell_type": "code",
   "execution_count": 3,
   "metadata": {},
   "outputs": [],
   "source": [
    "import pandas as pd\n",
    "import numpy as np\n",
    "import pickle\n",
    "import matplotlib.pyplot as plt\n",
    "import os\n",
    "from pathlib import Path\n",
    "import soundfile as sf\n",
    "import io\n",
    "import librosa\n",
    "import librosa.display\n",
    "import umap\n",
    "\n",
    "import sys \n",
    "sys.path.insert(0, '..')"
   ]
  },
  {
   "cell_type": "code",
   "execution_count": 4,
   "metadata": {},
   "outputs": [],
   "source": [
    "P_DIR = str(Path(os.getcwd()).parents[0])  \n",
    "DATA = os.path.join(os.path.sep, P_DIR, 'data') \n",
    "DF_NAME = 'df_umap.pkl'\n",
    "\n",
    "SPEC_COL = 'spectrograms' # column name that contains the spectrograms\n",
    "ID_COL = 'callID' # column name that contains call identifier (must be unique)\n",
    "\n",
    "# Spectrogramming parameters (needed for generating the images)\n",
    "\n",
    "from parameters.spec_params import FFT_WIN, FFT_HOP, FMIN, FMAX\n",
    "\n",
    "OVERWRITE = False  # If there already exists an image_data.pkl, should it be overwritten? Default no"
   ]
  },
  {
   "cell_type": "markdown",
   "metadata": {},
   "source": [
    "__Make sure the spectrogramming parameters are correct!__ They are used to set the correct time and frequency axis labels for the spectrogram images. \n",
    "\n",
    "For example, if you are using bandpass-filtered spectrograms, you may have to adapt FMIN (-->LOWCUT), FMAX (--> HIGHCUT) and N_MELS"
   ]
  },
  {
   "cell_type": "markdown",
   "metadata": {},
   "source": [
    "## 1. Read in files"
   ]
  },
  {
   "cell_type": "code",
   "execution_count": 27,
   "metadata": {},
   "outputs": [],
   "source": [
    "df = pd.read_pickle(os.path.join(os.path.sep, DATA, DF_NAME))"
   ]
  },
  {
   "cell_type": "markdown",
   "metadata": {},
   "source": [
    "### 1.1. Check if call identifier column is present"
   ]
  },
  {
   "cell_type": "code",
   "execution_count": 28,
   "metadata": {},
   "outputs": [
    {
     "name": "stdout",
     "output_type": "stream",
     "text": [
      "No ID-Column found ( callID )\n",
      "Default ID column  callID will be generated from filename.\n"
     ]
    }
   ],
   "source": [
    "# Default callID will be the name of the wav file\n",
    "\n",
    "if ID_COL not in df.columns:\n",
    "    print('No ID-Column found (', ID_COL, ')')\n",
    "    \n",
    "    if 'filename' in df.columns:\n",
    "        print(\"Default ID column \", ID_COL, \"will be generated from filename.\")\n",
    "        df[ID_COL] = [x.split(\".\")[0] for x in df['filename']]\n",
    "    else:\n",
    "        raise"
   ]
  },
  {
   "cell_type": "markdown",
   "metadata": {},
   "source": [
    "## 2. Generate spectrogram images"
   ]
  },
  {
   "cell_type": "markdown",
   "metadata": {},
   "source": [
    "A spectrogram image is generated from each row in the dataframe. Images are saved in a dictionary (keys are the ID_COL of the dataframe).\n",
    "\n",
    "The dictionary is pickled and saved as image_data.pkl. It will later be loaded in the interactive visualization script and these images will be displayed in the visualization."
   ]
  },
  {
   "cell_type": "code",
   "execution_count": 2,
   "metadata": {},
   "outputs": [],
   "source": [
    "OVERWRITE=True # Do you want to overwrite any existing image_data.pkl file?"
   ]
  },
  {
   "cell_type": "code",
   "execution_count": 43,
   "metadata": {},
   "outputs": [
    {
     "name": "stdout",
     "output_type": "stream",
     "text": [
      "Processing i: 6429"
     ]
    }
   ],
   "source": [
    "if OVERWRITE==False and os.path.isfile(os.path.join(os.path.sep,DATA,'image_data.pkl')):\n",
    "    print(\"File already exists. Overwrite is set to FALSE, so no new image_data will be generated.\")\n",
    "    \n",
    "    # Double-ceck if image_data contains all the required calls\n",
    "    with open(os.path.join(os.path.sep, DATA, 'image_data.pkl'), 'rb') as handle:\n",
    "        image_data = pickle.load(handle)  \n",
    "    image_keys = list(image_data.keys())\n",
    "    expected_keys = list(df[ID_COL])\n",
    "    missing = list(set(expected_keys)-set(image_keys))\n",
    "    \n",
    "    if len(missing)>0:\n",
    "        print(\"BUT: The current image_data.pkl file doesn't seem to contain all calls that are in your dataframe!\")\n",
    "        \n",
    "else:\n",
    "    image_data = {}\n",
    "    for i,dat in enumerate(df.spectrograms):\n",
    "        print('\\rProcessing i:',i, end='')\n",
    "        dat = np.asarray(df.iloc[i][SPEC_COL]) \n",
    "        sr = df.iloc[i]['samplerate_hz']\n",
    "        plt.figure()\n",
    "        librosa.display.specshow(dat,sr=sr, hop_length=int(FFT_HOP * sr) , fmin=FMIN, fmax=FMAX, y_axis='mel', x_axis='s',cmap='inferno')\n",
    "        buf = io.BytesIO()\n",
    "        plt.savefig(buf, format='png')\n",
    "        byte_im = buf.getvalue()\n",
    "        image_data[df.iloc[i][ID_COL]] = byte_im\n",
    "        plt.close()\n",
    "\n",
    "    # Store data (serialize)\n",
    "    with open(os.path.join(os.path.sep,DATA,'image_data.pkl'), 'wb') as handle:\n",
    "        pickle.dump(image_data, handle, protocol=pickle.HIGHEST_PROTOCOL)"
   ]
  },
  {
   "cell_type": "markdown",
   "metadata": {},
   "source": [
    "## 3. Save dataframe"
   ]
  },
  {
   "cell_type": "markdown",
   "metadata": {},
   "source": [
    "Save the dataframe to make sure it contains the correct ID column for access to the image_data."
   ]
  },
  {
   "cell_type": "code",
   "execution_count": 10,
   "metadata": {},
   "outputs": [],
   "source": [
    "df.to_pickle(os.path.join(os.path.sep, DATA, DF_NAME))"
   ]
  }
 ],
 "metadata": {
  "kernelspec": {
   "display_name": "Python 3",
   "language": "python",
   "name": "python3"
  },
  "language_info": {
   "codemirror_mode": {
    "name": "ipython",
    "version": 3
   },
   "file_extension": ".py",
   "mimetype": "text/x-python",
   "name": "python",
   "nbconvert_exporter": "python",
   "pygments_lexer": "ipython3",
   "version": "3.7.10"
  }
 },
 "nbformat": 4,
 "nbformat_minor": 4
}
